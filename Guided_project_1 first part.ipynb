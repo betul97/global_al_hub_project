{
 "cells": [
  {
   "cell_type": "markdown",
   "metadata": {
    "id": "VMuUK0ap_bRD"
   },
   "source": [
    "# Chapter 1\n",
    "### Your first day at your new job 👩‍💻👨‍💻\n",
    "\n",
    "You are starting a new job as a junior software developer in an IT company. \n",
    "\n",
    "The company’s HR department asks you to fill out a form, so you start by assigning your personal information to corresponding variables.\n",
    "\n",
    "📌 Create a variable for your name, surname, age, ID number, place of residence, to specify if you have active health insurance or not, and lastly one for specifying your nationality.\n"
   ]
  },
  {
   "cell_type": "code",
   "execution_count": 2,
   "metadata": {
    "id": "OPLhhc2Sp-D0"
   },
   "outputs": [],
   "source": [
    "#Please assign your personal information to variables\n",
    "name='Ben'\n",
    "surname='Kingston'\n",
    "age=38\n",
    "id_number=123456789\n",
    "where_i_live='Bursa'\n",
    "health_insurance=True\n",
    "my_nationality='Turkish'\n"
   ]
  },
  {
   "cell_type": "markdown",
   "metadata": {
    "id": "3zaUlxwcp-D0"
   },
   "source": [
    "###Meet And Greet\n",
    "Introduce yourself to your new co-workers.\n",
    "\n",
    "📌 Use a f-string to print \"My name is Joey Tribbiani I am 25 years old and I live in London”."
   ]
  },
  {
   "cell_type": "code",
   "execution_count": 3,
   "metadata": {
    "id": "XNuh5_2WXwvg"
   },
   "outputs": [
    {
     "name": "stdout",
     "output_type": "stream",
     "text": [
      " my name is Betul Kirsakal, I am 38 years old, i live in Bursa\n"
     ]
    }
   ],
   "source": [
    "#Write a sentence using the print function to describe yourself using the variables above in the correct data type\n",
    "print(f\" my name is {name} {surname}, I am {str(age)} years old, i live in {where_i_live}\")"
   ]
  },
  {
   "cell_type": "markdown",
   "metadata": {
    "id": "EEL9To4ip-D1"
   },
   "source": [
    "### Equipment starter pack\n",
    "The HR department asks you to list the items you would need to improve your work efficiency\n",
    "\n",
    "Mandatory:\n",
    "* Laptop\n",
    "* Headset\n",
    "* Second monitor\n",
    "\n",
    "Optional:\n",
    "* Mousepad\n",
    "* USB drive\n",
    "* External drive\n",
    "\n",
    "\n",
    "📌 Create a shopping list that contains items above and print it."
   ]
  },
  {
   "cell_type": "code",
   "execution_count": 4,
   "metadata": {
    "id": "fPFBLDyqp-D2"
   },
   "outputs": [],
   "source": [
    "#Create the item_list\n",
    "my_shopping_list=['Laptop','Second monitor','Headset','External drive','Mousepad','USB drive']\n"
   ]
  },
  {
   "cell_type": "code",
   "execution_count": 5,
   "metadata": {
    "id": "358R_CN5U2-J"
   },
   "outputs": [
    {
     "name": "stdout",
     "output_type": "stream",
     "text": [
      "['Laptop', 'Second monitor', 'Headset', 'External drive', 'Mousepad', 'USB drive']\n"
     ]
    }
   ],
   "source": [
    "#Print the list\n",
    "\n",
    "print(my_shopping_list)"
   ]
  },
  {
   "cell_type": "markdown",
   "metadata": {
    "id": "5keEWjCyp-D2"
   },
   "source": [
    "####What is mandatory and what is optional?\n",
    "\n",
    "📌 Use list slicing to devide your list in two list: 'mandatory_item_list' and 'optional_item_list' and print both to the screen."
   ]
  },
  {
   "cell_type": "code",
   "execution_count": 6,
   "metadata": {
    "id": "E6ewuDYZp-D2"
   },
   "outputs": [
    {
     "data": {
      "text/plain": [
       "['Laptop', 'Second monitor', 'Headset']"
      ]
     },
     "execution_count": 6,
     "metadata": {},
     "output_type": "execute_result"
    }
   ],
   "source": [
    "#Use list slicing to divide the mandatory items\n",
    "mandatory_items=my_shopping_list[0:3]\n",
    "mandatory_items"
   ]
  },
  {
   "cell_type": "code",
   "execution_count": 7,
   "metadata": {
    "id": "hOmkym01RGEL"
   },
   "outputs": [
    {
     "data": {
      "text/plain": [
       "['External drive', 'Mousepad', 'USB drive']"
      ]
     },
     "execution_count": 7,
     "metadata": {},
     "output_type": "execute_result"
    }
   ],
   "source": [
    "#Use list slicing to divide the optional items\n",
    "optionel_items=my_shopping_list[3:]\n",
    "optionel_items"
   ]
  },
  {
   "cell_type": "code",
   "execution_count": 8,
   "metadata": {
    "id": "xsVv1_msVE1_"
   },
   "outputs": [
    {
     "name": "stdout",
     "output_type": "stream",
     "text": [
      "['Laptop', 'Second monitor', 'Headset']\n",
      "['External drive', 'Mousepad', 'USB drive']\n"
     ]
    }
   ],
   "source": [
    "#Print both to the screen\n",
    "print(mandatory_items)\n",
    "print(optionel_items)"
   ]
  },
  {
   "cell_type": "markdown",
   "metadata": {
    "id": "s_M1Q93wp-D3"
   },
   "source": [
    "#### Go Shopping\n",
    "Next, you will have to go and purchase these items, the finance department confirmed a budget of $5000.\n",
    "\n",
    "📌 Assign 5000 to a variable called limit, so you know how much you can spend."
   ]
  },
  {
   "cell_type": "code",
   "execution_count": 9,
   "metadata": {
    "id": "nCmpm0oqp-D3"
   },
   "outputs": [],
   "source": [
    "#Assign the spending limit value to a variable called limit\n",
    "limit=5000"
   ]
  },
  {
   "cell_type": "markdown",
   "metadata": {
    "id": "VwbEEymVp-D3"
   },
   "source": [
    "####Price dictionary\n",
    "\n",
    "Before you start shopping yo need to find the best items that you can buy within the company budget. \n",
    "\n",
    "📌 Prepare a dictionary called “price_sheet” that includes the items as keys and the prices as values.  \n",
    " "
   ]
  },
  {
   "cell_type": "code",
   "execution_count": 10,
   "metadata": {
    "id": "9o9n9Ag-p-D3"
   },
   "outputs": [],
   "source": [
    "#Create a dictionary that contains each item and its price\n",
    "price_sheet={\n",
    "    'Laptop':1500,\n",
    "    'Headset':100,\n",
    "    'Second Monitor':200,\n",
    "    'Mousepad':50,\n",
    "    'External drive':300,\n",
    "    'USB drive':250\n",
    "}\n"
   ]
  },
  {
   "cell_type": "markdown",
   "metadata": {
    "id": "rUYivBVEBhCv"
   },
   "source": [
    "####Shopping functions\n",
    "\n",
    "You need to define three functions that will help you during shopping.\n",
    "\n",
    "📌 First, create an empty list that  will be your shopping cart. Here you will add the items you need to purchase.\n",
    "\n",
    "1. Define a function for both adding items to the cart and removing them from the item_list.\n",
    "\n",
    "📌 The \"add_to_cart\" function should take the item name and the quantity to buy as an argument. \n",
    "\n",
    "2. Define a function that will create an invoice. \n",
    "\n",
    "📌 The \"create_invoice\" function should calculate the taxes of each item (18%) and add it to the total amount.\n",
    "\n",
    "3. Define a function for the checkout. \n",
    "\n",
    "📌 The \"checkout\" function should subtract the total amount from the budget and print a statement to inform if the payment was successful. "
   ]
  },
  {
   "cell_type": "code",
   "execution_count": 2,
   "metadata": {
    "id": "dBNZ2ZdkGHUe"
   },
   "outputs": [],
   "source": [
    "#Initialize the cart list\n",
    "cart=[]"
   ]
  },
  {
   "cell_type": "code",
   "execution_count": 3,
   "metadata": {
    "id": "HH26hHHFGKPJ"
   },
   "outputs": [],
   "source": [
    "#Define the \"add_to_cart\" function\n",
    "def add_to_cart(item,quantity):\n",
    "    cart.append((item,quantity))\n",
    "    item_list.remove(item)"
   ]
  },
  {
   "cell_type": "code",
   "execution_count": null,
   "metadata": {},
   "outputs": [],
   "source": [
    "add_to_chart()"
   ]
  },
  {
   "cell_type": "code",
   "execution_count": 4,
   "metadata": {
    "id": "TUmNr4xVGQdm"
   },
   "outputs": [],
   "source": [
    "#Define the \"create_invoice\" function\n",
    "def create_invoice():\n",
    "    total_amount_inc_tax=0\n",
    "    for item,quantity in cart:\n",
    "        price=price_sheet[item]\n",
    "        tax=0.18*price\n",
    "        total=(tax+price)*quantity\n",
    "        total_amount_inc_tax+=total\n",
    "        print('item:',item,'\\t','Price:',price,'\\t','Quantity:',quantity,'\\t','Tax:',tax,'\\t','Total:',total,'\\t',)\n",
    "    \n",
    "    print('After the taxes are applied the total amount is:','\\t',total_amount_inc_tax)\n",
    "    return total_amount_inc_tax"
   ]
  },
  {
   "cell_type": "code",
   "execution_count": null,
   "metadata": {},
   "outputs": [],
   "source": []
  },
  {
   "cell_type": "code",
   "execution_count": 14,
   "metadata": {
    "id": "iUlKiXgMGdIk"
   },
   "outputs": [],
   "source": [
    "#Define the \"checkout\" function\n",
    "def checkout():\n",
    "    global limit \n",
    "    total_amount=create_invoice()\n",
    "    if limit==0:\n",
    "        print(\"You don't have enough budget\")\n",
    "    elif total_amount>limit:\n",
    "        print('the amount you have to pay is above tehe spending limit.You have to drop some items')\n",
    "    else :\n",
    "        limit-=total_amount\n",
    "        print(f'The total amount (incl taxes) you have paid is {total_amount} you have {limit} dolars left')\n",
    "        \n",
    "    "
   ]
  },
  {
   "cell_type": "markdown",
   "metadata": {
    "id": "2IFUlu0yB0In"
   },
   "source": [
    "Let's shop!"
   ]
  },
  {
   "cell_type": "code",
   "execution_count": 15,
   "metadata": {
    "id": "FDO7CRJTWPg7"
   },
   "outputs": [
    {
     "ename": "NameError",
     "evalue": "name 'item_list' is not defined",
     "output_type": "error",
     "traceback": [
      "\u001b[0;31m---------------------------------------------------------------------------\u001b[0m",
      "\u001b[0;31mNameError\u001b[0m                                 Traceback (most recent call last)",
      "Input \u001b[0;32mIn [15]\u001b[0m, in \u001b[0;36m<cell line: 4>\u001b[0;34m()\u001b[0m\n\u001b[1;32m      1\u001b[0m \u001b[38;5;66;03m#Call the \"add_to_cart\" function for each item\u001b[39;00m\n\u001b[1;32m      2\u001b[0m  \n\u001b[1;32m      3\u001b[0m \u001b[38;5;66;03m#Add first item to cart\u001b[39;00m\n\u001b[0;32m----> 4\u001b[0m \u001b[43madd_to_cart\u001b[49m\u001b[43m(\u001b[49m\u001b[38;5;124;43m'\u001b[39;49m\u001b[38;5;124;43mLaptop\u001b[39;49m\u001b[38;5;124;43m'\u001b[39;49m\u001b[43m,\u001b[49m\u001b[38;5;241;43m1\u001b[39;49m\u001b[43m)\u001b[49m\n\u001b[1;32m      6\u001b[0m \u001b[38;5;66;03m#Add second item to cart\u001b[39;00m\n\u001b[1;32m      7\u001b[0m add_to_cart(\u001b[38;5;124m'\u001b[39m\u001b[38;5;124mHeadset\u001b[39m\u001b[38;5;124m'\u001b[39m,\u001b[38;5;241m8\u001b[39m)\n",
      "Input \u001b[0;32mIn [12]\u001b[0m, in \u001b[0;36madd_to_cart\u001b[0;34m(item, quantity)\u001b[0m\n\u001b[1;32m      2\u001b[0m \u001b[38;5;28;01mdef\u001b[39;00m \u001b[38;5;21madd_to_cart\u001b[39m(item,quantity):\n\u001b[1;32m      3\u001b[0m     cart\u001b[38;5;241m.\u001b[39mappend((item,quantity))\n\u001b[0;32m----> 4\u001b[0m     \u001b[43mitem_list\u001b[49m\u001b[38;5;241m.\u001b[39mremove(item)\n",
      "\u001b[0;31mNameError\u001b[0m: name 'item_list' is not defined"
     ]
    }
   ],
   "source": [
    "#Call the \"add_to_cart\" function for each item\n",
    " \n",
    "#Add first item to cart\n",
    "add_to_cart('Laptop',1)\n",
    " \n",
    "#Add second item to cart\n",
    "add_to_cart('Headset',8)\n",
    "#Add third item to cart\n",
    "add_to_cart('Second Monitor',1)\n",
    "\n",
    "#Add fourth item to cart\n",
    "add_to_cart('Mousepad',1)\n",
    " \n",
    "#Add fifth item to cart\n",
    "add_to_cart('External drive',2)\n",
    "\n",
    "#Add last item to cart\n",
    "add_to_cart('USB drive',4)\n",
    " \n",
    "#Call the create \"checkout\" function to pay for all your items \n",
    "checkout()"
   ]
  },
  {
   "cell_type": "markdown",
   "metadata": {
    "id": "ZL-r2x_xKixg"
   },
   "source": [
    "###Game Night\n",
    "\n",
    "You are back at the office and the HR department organizes a welcome party for new employees. \n",
    "\n",
    "You decide to create a Rock-Paper-Scissor game. \n",
    "\n",
    "📌 Create a Rock-Paper-Scissor game in which the user plays against the computer. The player will choose one of the actions, and the computer will choose its action randomly.\n"
   ]
  },
  {
   "cell_type": "code",
   "execution_count": null,
   "metadata": {
    "id": "qzD5pxBTgcFb"
   },
   "outputs": [],
   "source": [
    "#Import the random library\n",
    "import random"
   ]
  },
  {
   "cell_type": "code",
   "execution_count": null,
   "metadata": {},
   "outputs": [],
   "source": [
    "action_list=['rock','paper','scissors']"
   ]
  },
  {
   "cell_type": "code",
   "execution_count": null,
   "metadata": {
    "id": "oJv-ihLAgcRo"
   },
   "outputs": [],
   "source": [
    "#create a list containing the three actions of the game.\n",
    "computer_score=0\n",
    "player_score=0"
   ]
  },
  {
   "cell_type": "code",
   "execution_count": null,
   "metadata": {
    "id": "DNUa_9afWqMd"
   },
   "outputs": [],
   "source": [
    "#Set the scores of players to 0\n",
    "total_rounds=input('How many rounds do you want to play?please enter a number.')\n",
    "\n",
    "#Ask the user how many rounds they want to play\n",
    "total_rounds=input('How many rounds do you want to play?please enter a number.')\n",
    "\n",
    "\n",
    "#Add a round_counter that is 0 at the beginning\n",
    "\n",
    "round_counter=0\n",
    "#Write a while loop and put the game inside\n",
    "While True:\n",
    "\n",
    "\n",
    "  #Increase round_counter by and print it\n",
    "  round_counter+=1\n",
    "    print(\"Round number:\",round_counter)\n",
    "\n",
    "\n",
    "  #Select a random action for computer\n",
    "  \n",
    "    computer_choice=random.choice(action_list)\n",
    "\n",
    "  #Ask player to choose an action\n",
    "  \n",
    "    player_choice=input(\"Please choose your action:\")\n",
    "  #Print the players choices\n",
    "  \n",
    "    print(\"Computer:\",computer_choice)\n",
    "    print(\"player:\",player_choice)\n",
    "\n",
    "\n",
    "  #tie condition\n",
    "  if computer_choice==player_choice:\n",
    "        print(\"Tie! both the same choose the same!\")\n",
    "\n",
    "\n",
    "  #Remaining conditions\n",
    "  \n",
    "\n",
    "\n",
    "\n",
    "\n",
    "\n",
    "  #Stop the while loop if the round_counter equals the number of total rounds\n",
    "  \n",
    "\n",
    "\n",
    "#Print the outcome of the game by using conditional statements\n"
   ]
  },
  {
   "cell_type": "markdown",
   "metadata": {
    "id": "jdrYN0Xgp-D6"
   },
   "source": [
    "# Your first task \n",
    "\n",
    "Rachel asks you to write a program to track the name and revenue each employee brings.  \n",
    "\n",
    "* Create the \"salesperson_revenue\" dictionary to see the employee name as a key and the revenue as a value.\n",
    "\n",
    "  📌 Every employee starts with 0 revenue.\n",
    "* Define the \"enter_revenue\" function. \n",
    "\n",
    "  📌 The function takes the name and revenue as an argument and updates the salesperson_revenue dictionary.\n"
   ]
  },
  {
   "cell_type": "code",
   "execution_count": null,
   "metadata": {
    "id": "3vzRo7hyMRv2"
   },
   "outputs": [],
   "source": [
    "#Create salesperson_revenue dictionary\n",
    "salesperson_revenue={\n",
    "    'Ben':0,\n",
    "    'Omer':0,\n",
    "    'Karen':0,\n",
    "    'Celine':0,\n",
    "    'Sue':0,\n",
    "    'Bora':0,\n",
    "    'Rose':0,\n",
    "    'Ellen':0\n",
    "}\n"
   ]
  },
  {
   "cell_type": "code",
   "execution_count": null,
   "metadata": {
    "id": "m-8IozBwMRzM"
   },
   "outputs": [],
   "source": [
    "#Define enter_revenue function\n",
    "\n",
    "def enter_revenue(name,revenue):\n",
    "    global salesperson_revenue\n",
    "    salesperson_revenue[name]+=revenue"
   ]
  },
  {
   "cell_type": "markdown",
   "metadata": {
    "id": "UnTGSoNTi58u"
   },
   "source": [
    "####Try out the functions\n",
    "* In a while loop ask the user to give the name of the employee and for the revenue \n",
    "\n",
    "  📌 If the user enters “quit” the loop should break.\n",
    "\n",
    "After that, print out the salesperson_revenue dictionary.\n"
   ]
  },
  {
   "cell_type": "code",
   "execution_count": 17,
   "metadata": {
    "id": "2E549VvFXNi6"
   },
   "outputs": [
    {
     "name": "stdout",
     "output_type": "stream",
     "text": [
      "Employee name:Ben\n",
      "Enter revenue:20\n"
     ]
    },
    {
     "ename": "NameError",
     "evalue": "name 'enter_revenue' is not defined",
     "output_type": "error",
     "traceback": [
      "\u001b[0;31m---------------------------------------------------------------------------\u001b[0m",
      "\u001b[0;31mNameError\u001b[0m                                 Traceback (most recent call last)",
      "Input \u001b[0;32mIn [17]\u001b[0m, in \u001b[0;36m<cell line: 3>\u001b[0;34m()\u001b[0m\n\u001b[1;32m      5\u001b[0m     \u001b[38;5;28;01mbreak\u001b[39;00m\n\u001b[1;32m      6\u001b[0m revenue\u001b[38;5;241m=\u001b[39m\u001b[38;5;28mint\u001b[39m(\u001b[38;5;28minput\u001b[39m(\u001b[38;5;124m'\u001b[39m\u001b[38;5;124mEnter revenue:\u001b[39m\u001b[38;5;124m'\u001b[39m))\n\u001b[0;32m----> 7\u001b[0m \u001b[43menter_revenue\u001b[49m(name,revenue)\n\u001b[1;32m      8\u001b[0m \u001b[38;5;28mprint\u001b[39m(\u001b[38;5;124mf\u001b[39m\u001b[38;5;124m\"\u001b[39m\u001b[38;5;132;01m{\u001b[39;00mname\u001b[38;5;132;01m}\u001b[39;00m\u001b[38;5;124m'\u001b[39m\u001b[38;5;124ms revenue is \u001b[39m\u001b[38;5;132;01m{\u001b[39;00msalesperson_revenue[name]\u001b[38;5;132;01m}\u001b[39;00m\u001b[38;5;124m\"\u001b[39m)\n",
      "\u001b[0;31mNameError\u001b[0m: name 'enter_revenue' is not defined"
     ]
    }
   ],
   "source": [
    "#Asking user employee name as input\n",
    "while True:\n",
    "    name=input('Employee name:')\n",
    "    if name=='quit':\n",
    "        break\n",
    "    revenue=int(input('Enter revenue:'))\n",
    "    enter_revenue(name,revenue)\n",
    "    print(f\"{name}'s revenue is {salesperson_revenue[name]}\")"
   ]
  },
  {
   "cell_type": "code",
   "execution_count": 18,
   "metadata": {
    "id": "OAvl9rgOXPe6"
   },
   "outputs": [
    {
     "ename": "NameError",
     "evalue": "name 'salesperson_revenue' is not defined",
     "output_type": "error",
     "traceback": [
      "\u001b[0;31m---------------------------------------------------------------------------\u001b[0m",
      "\u001b[0;31mNameError\u001b[0m                                 Traceback (most recent call last)",
      "Input \u001b[0;32mIn [18]\u001b[0m, in \u001b[0;36m<cell line: 2>\u001b[0;34m()\u001b[0m\n\u001b[1;32m      1\u001b[0m \u001b[38;5;66;03m#Print the salesperson_revenue dictionary\u001b[39;00m\n\u001b[0;32m----> 2\u001b[0m \u001b[38;5;28mprint\u001b[39m(\u001b[43msalesperson_revenue\u001b[49m)\n",
      "\u001b[0;31mNameError\u001b[0m: name 'salesperson_revenue' is not defined"
     ]
    }
   ],
   "source": [
    "#Print the salesperson_revenue dictionary\n",
    "print(salesperson_revenue)"
   ]
  },
  {
   "cell_type": "code",
   "execution_count": 7,
   "metadata": {},
   "outputs": [],
   "source": [
    "class employee():\n",
    "    employee_name='Ben'\n",
    "    department='Sale'\n",
    "    starting_year=2020\n",
    "    salary=5000"
   ]
  },
  {
   "cell_type": "code",
   "execution_count": 9,
   "metadata": {},
   "outputs": [],
   "source": [
    "class employee():\n",
    "    def __init__(self,employee_name,department,starting_year,salary):\n",
    "        self.employee_name=employee_name\n",
    "        self.department=department\n",
    "        self.starting_year=starting_year\n",
    "        self.salary=salary\n",
    "    "
   ]
  },
  {
   "cell_type": "code",
   "execution_count": 10,
   "metadata": {},
   "outputs": [],
   "source": [
    "employee_1 = employee('Ben','sales',2020,5000)\n"
   ]
  },
  {
   "cell_type": "code",
   "execution_count": 11,
   "metadata": {},
   "outputs": [
    {
     "name": "stdout",
     "output_type": "stream",
     "text": [
      "Ben\n",
      "sales\n",
      "2020\n",
      "5000\n"
     ]
    }
   ],
   "source": [
    "print(employee_1.employee_name)\n",
    "print(employee_1.department)\n",
    "print(employee_1.starting_year)\n",
    "print(employee_1.salary)"
   ]
  },
  {
   "cell_type": "code",
   "execution_count": null,
   "metadata": {},
   "outputs": [],
   "source": []
  }
 ],
 "metadata": {
  "colab": {
   "collapsed_sections": [],
   "name": "Guided_project_1.ipynb",
   "provenance": []
  },
  "interpreter": {
   "hash": "c5914ae3790566b9cd0e984a9bdda42a29da8adf046b5ac0173e0d37aacf3dab"
  },
  "kernelspec": {
   "display_name": "Python 3 (ipykernel)",
   "language": "python",
   "name": "python3"
  },
  "language_info": {
   "codemirror_mode": {
    "name": "ipython",
    "version": 3
   },
   "file_extension": ".py",
   "mimetype": "text/x-python",
   "name": "python",
   "nbconvert_exporter": "python",
   "pygments_lexer": "ipython3",
   "version": "3.9.12"
  }
 },
 "nbformat": 4,
 "nbformat_minor": 1
}
