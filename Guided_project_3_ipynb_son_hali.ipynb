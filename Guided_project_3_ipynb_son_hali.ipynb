{
  "cells": [
    {
      "cell_type": "markdown",
      "metadata": {
        "id": "15177c1c"
      },
      "source": [
        "#Chapter 3: Data cleaning exercise\n",
        "\n",
        "### Sales department performance analysis\n",
        "\n",
        "The HR department wants to analyze the performance of the employees in the sales department.\n",
        "\n",
        "### Data Reading\n",
        "Rachel wrote a text file employee_revenue.txt including all necessary information, but she needs help to extract the necessary information.\n",
        "\n",
        "Start by uploading the employee_revenue file to the working directory.\n",
        "\n",
        "📌 Use the .read() method to open the text file in read mode and assign it to the variable \"data\".\n"
      ],
      "id": "15177c1c"
    },
    {
      "cell_type": "code",
      "execution_count": null,
      "metadata": {
        "id": "da79a8da",
        "colab": {
          "base_uri": "https://localhost:8080/"
        },
        "outputId": "ae86969a-8687-4ecf-951c-a8b3b7203b96"
      },
      "outputs": [
        {
          "output_type": "stream",
          "name": "stdout",
          "text": [
            "Mounted at /content/drive\n"
          ]
        }
      ],
      "source": [
        "#Open the file in read mode\n",
        "from google.colab import drive\n",
        "drive.mount('/content/drive')"
      ],
      "id": "da79a8da"
    },
    {
      "cell_type": "code",
      "execution_count": null,
      "metadata": {
        "id": "75a5de52",
        "colab": {
          "base_uri": "https://localhost:8080/"
        },
        "outputId": "5b7396d7-4596-4d96-d2ca-f9f6e1d2f7db"
      },
      "outputs": [
        {
          "output_type": "stream",
          "name": "stdout",
          "text": [
            "  Ben made 300 calls and generated 2400 dollars last Month with an 8$ average deal size.  \n",
            "omer called 10 times and Sold 2 courses generated 60 dollars last month with a 6$ average deal size.\n",
            "   KAren called 500 people and achieved success by GETting 24$ average deal size, got 12000 dollars revenue.     \n",
            "Celine with 70 calls, made 2275 dollars and 32$ average deal size IN the previous month.  \n",
            "     Sue called 100 people and earned 500 Dollars in REvenue and an AVERAGE DEAL SIZE of 5$ Last month.\n",
            "Bora called 100 people generated 770 dollars last month, his average deal size was 25$.  \n",
            "Rose made 600 phone calls and GENERATING 4000 dollars a past month 25$ average deal SIZE. \n",
            "Ellen made 800 calls and generated 6000 dollars a prior mONTH and reached 40$ the average deal size. \n",
            " bob made 200 phone calls, helped to make a proGress and generated 800 dollars LAST MONTH and gaining 15$ average deal size.\n",
            "Taylor, with 450 calls generated 1200 dollars in revenue pASt month, and the average deal size was 10$. \n",
            "  JuDE made 80 calls and earned 500 dollars for the company last month, her average deal size was 12$.\n",
            "\n"
          ]
        }
      ],
      "source": [
        "#Print the data\n",
        "file=open(\"employee_revenue.txt\",\"r\")\n",
        "data=file.read()\n",
        "print(data)"
      ],
      "id": "75a5de52"
    },
    {
      "cell_type": "markdown",
      "metadata": {
        "id": "33d4f7ef"
      },
      "source": [
        "### Data Cleaning\n",
        "\n",
        "You can see that the data needs to be cleaned and information has to be extracted from these lines. \n",
        "\n",
        "To be able to clean the data, you need to separate the text into lines.\n",
        "\n",
        "📌 Use the .splitlines() method."
      ],
      "id": "33d4f7ef"
    },
    {
      "cell_type": "code",
      "execution_count": null,
      "metadata": {
        "id": "9a1a651d",
        "colab": {
          "base_uri": "https://localhost:8080/"
        },
        "outputId": "d7a84c04-8b37-4d6b-ad3b-10e01a4cc8fd"
      },
      "outputs": [
        {
          "output_type": "stream",
          "name": "stdout",
          "text": [
            "['  Ben made 300 calls and generated 2400 dollars last Month with an 8$ average deal size.  ', 'omer called 10 times and Sold 2 courses generated 60 dollars last month with a 6$ average deal size.', '   KAren called 500 people and achieved success by GETting 24$ average deal size, got 12000 dollars revenue.     ', 'Celine with 70 calls, made 2275 dollars and 32$ average deal size IN the previous month.  ', '     Sue called 100 people and earned 500 Dollars in REvenue and an AVERAGE DEAL SIZE of 5$ Last month.', 'Bora called 100 people generated 770 dollars last month, his average deal size was 25$.  ', 'Rose made 600 phone calls and GENERATING 4000 dollars a past month 25$ average deal SIZE. ', 'Ellen made 800 calls and generated 6000 dollars a prior mONTH and reached 40$ the average deal size. ', ' bob made 200 phone calls, helped to make a proGress and generated 800 dollars LAST MONTH and gaining 15$ average deal size.', 'Taylor, with 450 calls generated 1200 dollars in revenue pASt month, and the average deal size was 10$. ', '  JuDE made 80 calls and earned 500 dollars for the company last month, her average deal size was 12$.']\n"
          ]
        }
      ],
      "source": [
        "#Seperate the data into lines\n",
        "lines=data.splitlines()\n",
        "print(lines)"
      ],
      "id": "9a1a651d"
    },
    {
      "cell_type": "markdown",
      "metadata": {
        "id": "CKkeig2poz7w"
      },
      "source": [
        "### Clean the data line by line\n",
        "\n",
        "Start to clean the data for the first line.\n",
        "\n",
        "📌 Use the .strip() method to remove the whitespaces from the edges of the string."
      ],
      "id": "CKkeig2poz7w"
    },
    {
      "cell_type": "code",
      "execution_count": null,
      "metadata": {
        "id": "2332622c",
        "colab": {
          "base_uri": "https://localhost:8080/"
        },
        "outputId": "006cbddb-968a-41d0-ebec-4f855fa7b141"
      },
      "outputs": [
        {
          "output_type": "stream",
          "name": "stdout",
          "text": [
            "  Ben made 300 calls and generated 2400 dollars last Month with an 8$ average deal size.  \n"
          ]
        }
      ],
      "source": [
        "#Take the first line\n",
        "string=lines[0]\n",
        "print(string)"
      ],
      "id": "2332622c"
    },
    {
      "cell_type": "code",
      "execution_count": null,
      "metadata": {
        "id": "26219c0d",
        "colab": {
          "base_uri": "https://localhost:8080/"
        },
        "outputId": "ae6a25c4-c0c4-4a18-8184-bb362285920a"
      },
      "outputs": [
        {
          "output_type": "stream",
          "name": "stdout",
          "text": [
            "Ben made 300 calls and generated 2400 dollars last Month with an 8$ average deal size.\n"
          ]
        }
      ],
      "source": [
        "#Remove the whitespaces from the edges\n",
        "string=string.strip(\" \")\n",
        "print(string)"
      ],
      "id": "26219c0d"
    },
    {
      "cell_type": "markdown",
      "metadata": {
        "id": "ed90bfc6"
      },
      "source": [
        "Next, you need to fix the capitalization issues.\n",
        "\n",
        "📌 Use the .lower() method to convert the text to lowercase.\n",
        "\n",
        "📌 Then use the .capitalize() method to capitalize the first letter."
      ],
      "id": "ed90bfc6"
    },
    {
      "cell_type": "code",
      "execution_count": null,
      "metadata": {
        "id": "ef8bca74",
        "colab": {
          "base_uri": "https://localhost:8080/"
        },
        "outputId": "92da7a5b-a880-4d8e-ba82-0e378393ace9"
      },
      "outputs": [
        {
          "output_type": "stream",
          "name": "stdout",
          "text": [
            "ben made 300 calls and generated 2400 dollars last month with an 8$ average deal size.\n"
          ]
        }
      ],
      "source": [
        "#Convert the string to lowercase\n",
        "string=string.lower()\n",
        "print(string)"
      ],
      "id": "ef8bca74"
    },
    {
      "cell_type": "code",
      "execution_count": null,
      "metadata": {
        "id": "d4be9443",
        "colab": {
          "base_uri": "https://localhost:8080/"
        },
        "outputId": "2cb0ede1-1c5c-4a45-c4f9-4ce560e16066"
      },
      "outputs": [
        {
          "output_type": "stream",
          "name": "stdout",
          "text": [
            "Ben made 300 calls and generated 2400 dollars last month with an 8$ average deal size.\n"
          ]
        }
      ],
      "source": [
        "#Capitalize the first character\n",
        "string=string.capitalize()\n",
        "print(string)"
      ],
      "id": "d4be9443"
    },
    {
      "cell_type": "markdown",
      "metadata": {
        "id": "f89b01c4"
      },
      "source": [
        "### Information Extraction\n",
        "\n",
        "To extract the information, you need to split the sentence into words. \n",
        "\n",
        "📌 Use the .split() method.\n"
      ],
      "id": "f89b01c4"
    },
    {
      "cell_type": "code",
      "execution_count": null,
      "metadata": {
        "id": "04ede2fd",
        "colab": {
          "base_uri": "https://localhost:8080/"
        },
        "outputId": "599e4d81-710d-4c39-b7cc-c43edd369dc5"
      },
      "outputs": [
        {
          "output_type": "execute_result",
          "data": {
            "text/plain": [
              "['Ben',\n",
              " 'made',\n",
              " '300',\n",
              " 'calls',\n",
              " 'and',\n",
              " 'generated',\n",
              " '2400',\n",
              " 'dollars',\n",
              " 'last',\n",
              " 'month',\n",
              " 'with',\n",
              " 'an',\n",
              " '8$',\n",
              " 'average',\n",
              " 'deal',\n",
              " 'size.']"
            ]
          },
          "metadata": {},
          "execution_count": 12
        }
      ],
      "source": [
        "#Split the sentece into words\n",
        "split_string=string.split()\n",
        "split_string"
      ],
      "id": "04ede2fd"
    },
    {
      "cell_type": "markdown",
      "metadata": {
        "id": "9138eb5b"
      },
      "source": [
        "You might noticed that the first element in the list is the name and the third element is the number of calls.\n",
        "\n",
        "📌 Use the indeces to extract the name and number of calls."
      ],
      "id": "9138eb5b"
    },
    {
      "cell_type": "code",
      "execution_count": null,
      "metadata": {
        "id": "897c59e5",
        "colab": {
          "base_uri": "https://localhost:8080/",
          "height": 35
        },
        "outputId": "ed22ed62-496f-4f99-f372-9494d5302a5f"
      },
      "outputs": [
        {
          "output_type": "execute_result",
          "data": {
            "text/plain": [
              "'Ben'"
            ],
            "application/vnd.google.colaboratory.intrinsic+json": {
              "type": "string"
            }
          },
          "metadata": {},
          "execution_count": 13
        }
      ],
      "source": [
        "#Use the index 0 to access the name element\n",
        "name=split_string[0]\n",
        "name"
      ],
      "id": "897c59e5"
    },
    {
      "cell_type": "code",
      "execution_count": null,
      "metadata": {
        "id": "98103332",
        "colab": {
          "base_uri": "https://localhost:8080/",
          "height": 35
        },
        "outputId": "60027a0b-b02c-46f6-e537-7a8a48a956ab"
      },
      "outputs": [
        {
          "output_type": "execute_result",
          "data": {
            "text/plain": [
              "'300'"
            ],
            "application/vnd.google.colaboratory.intrinsic+json": {
              "type": "string"
            }
          },
          "metadata": {},
          "execution_count": 14
        }
      ],
      "source": [
        "#Use the index 2 to access the number of calls element\n",
        "call_number=split_string[2]\n",
        "call_number"
      ],
      "id": "98103332"
    },
    {
      "cell_type": "markdown",
      "metadata": {
        "id": "etif7Kb3tEUC"
      },
      "source": [
        "So far so good!\n",
        "\n",
        "But as you can see the sentence order is not the same after the 7th element.\n",
        "\n",
        "To extract the average deal size you need to come up with a different approach. You can use the \"$\" sign to find the corresponding element.\n",
        "\n",
        "📌 Loop over the list to find the element that includes the \"$\" sign.\n",
        "\n",
        "📌 Then, use the .split() method to divide the string into the number and the $ sign."
      ],
      "id": "etif7Kb3tEUC"
    },
    {
      "cell_type": "code",
      "execution_count": null,
      "metadata": {
        "id": "443a9ddf",
        "colab": {
          "base_uri": "https://localhost:8080/",
          "height": 35
        },
        "outputId": "a10e3b9b-7799-4792-ccdf-aa8c275e3055"
      },
      "outputs": [
        {
          "output_type": "execute_result",
          "data": {
            "text/plain": [
              "'8'"
            ],
            "application/vnd.google.colaboratory.intrinsic+json": {
              "type": "string"
            }
          },
          "metadata": {},
          "execution_count": 15
        }
      ],
      "source": [
        "#Find the element with the \"$\" sign\n",
        "for i in split_string:\n",
        "  #Divide the number from it\n",
        "  if '$' in i:\n",
        "    average_deal_size=i.split('$')[0]\n",
        "#Print the average deal size\n",
        "average_deal_size"
      ],
      "id": "443a9ddf"
    },
    {
      "cell_type": "markdown",
      "metadata": {
        "id": "1332df7e"
      },
      "source": [
        "Similarly, we can use the string \"dollars\" to extract the revenue, which is the element right before \"dollars\".\n",
        "\n",
        "📌 Use the .index() method to identify the index for the \"dollars\" element.\n",
        "\n",
        "📌 Then, use this index to specify and extract the revenue."
      ],
      "id": "1332df7e"
    },
    {
      "cell_type": "code",
      "execution_count": null,
      "metadata": {
        "id": "a00945b0",
        "colab": {
          "base_uri": "https://localhost:8080/"
        },
        "outputId": "723f2460-272c-4096-d74d-12f3c60743a5"
      },
      "outputs": [
        {
          "output_type": "execute_result",
          "data": {
            "text/plain": [
              "7"
            ]
          },
          "metadata": {},
          "execution_count": 16
        }
      ],
      "source": [
        "#Find the index of element \"dollars\"\n",
        "dollars_index=split_string.index('dollars')\n",
        "dollars_index\n"
      ],
      "id": "a00945b0"
    },
    {
      "cell_type": "code",
      "execution_count": null,
      "metadata": {
        "id": "c663bd03"
      },
      "outputs": [],
      "source": [
        "#Subtract one from the index to identify the index of the revenue element\n"
      ],
      "id": "c663bd03"
    },
    {
      "cell_type": "code",
      "execution_count": null,
      "metadata": {
        "id": "2831e072",
        "colab": {
          "base_uri": "https://localhost:8080/",
          "height": 35
        },
        "outputId": "3cbbaa13-95f9-42aa-876b-4df8442439db"
      },
      "outputs": [
        {
          "output_type": "execute_result",
          "data": {
            "text/plain": [
              "'2400'"
            ],
            "application/vnd.google.colaboratory.intrinsic+json": {
              "type": "string"
            }
          },
          "metadata": {},
          "execution_count": 20
        }
      ],
      "source": [
        "#Extract the revenue\n",
        "revenue=split_string[revenue_index]\n",
        "revenue"
      ],
      "id": "2831e072"
    },
    {
      "cell_type": "markdown",
      "metadata": {
        "id": "537ed4c2"
      },
      "source": [
        "Great! You extracted all necessary information.\n",
        "\n",
        "📌 Print the information and check the types of the data."
      ],
      "id": "537ed4c2"
    },
    {
      "cell_type": "code",
      "execution_count": null,
      "metadata": {
        "id": "ace2c99f",
        "colab": {
          "base_uri": "https://localhost:8080/"
        },
        "outputId": "1eba99b7-74bd-4498-f5c0-2a46d5aeb95a"
      },
      "outputs": [
        {
          "output_type": "execute_result",
          "data": {
            "text/plain": [
              "6"
            ]
          },
          "metadata": {},
          "execution_count": 17
        }
      ],
      "source": [
        "#Print out the extracted information\n",
        "revenue_index=dollars_index-1\n",
        "revenue_index"
      ],
      "id": "ace2c99f"
    },
    {
      "cell_type": "code",
      "execution_count": null,
      "metadata": {
        "id": "SwAyLOAInasY",
        "colab": {
          "base_uri": "https://localhost:8080/"
        },
        "outputId": "bc570757-ac90-43e3-d302-800852ea0bbe"
      },
      "outputs": [
        {
          "output_type": "stream",
          "name": "stdout",
          "text": [
            "Name: Ben\n",
            "Number of calls: 300\n",
            "Average deal size: 8\n",
            "Revenue: 2400\n"
          ]
        }
      ],
      "source": [
        "#Check the types\n",
        "print(\"Name:\",name)\n",
        "print(\"Number of calls:\",call_number)\n",
        "print(\"Average deal size:\",average_deal_size)\n",
        "print(\"Revenue:\", revenue)\n"
      ],
      "id": "SwAyLOAInasY"
    },
    {
      "cell_type": "code",
      "source": [
        "#Check the types\n",
        "print(\"Name type type:\",type(name))\n",
        "print(\"Number of calls type:\",type(call_number))\n",
        "print(\"Average deal size type:\",type(average_deal_size))\n",
        "print(\"Revenue type:\", type(revenue))"
      ],
      "metadata": {
        "colab": {
          "base_uri": "https://localhost:8080/"
        },
        "id": "CRwYcXvYDGey",
        "outputId": "606ab6e3-1074-40bf-834c-542c427280c4"
      },
      "id": "CRwYcXvYDGey",
      "execution_count": null,
      "outputs": [
        {
          "output_type": "stream",
          "name": "stdout",
          "text": [
            "Name type type: <class 'str'>\n",
            "Number of calls type: <class 'str'>\n",
            "Average deal size type: <class 'str'>\n",
            "Revenue type: <class 'str'>\n"
          ]
        }
      ]
    },
    {
      "cell_type": "markdown",
      "metadata": {
        "id": "08f5b5fd"
      },
      "source": [
        "As you can see, we have the type string for all the data, but the average deal size, number of calls, and the revenue need to be integers. \n",
        "\n",
        "📌 Convert the data using the int() function and check again."
      ],
      "id": "08f5b5fd"
    },
    {
      "cell_type": "code",
      "execution_count": null,
      "metadata": {
        "id": "5f42e3f0"
      },
      "outputs": [],
      "source": [
        "#Convert the datatypes of average deal size, number of calls, and revenue\n",
        "average_deal_size=int(average_deal_size)\n",
        "call_number=int(call_number)\n",
        "revenu=int(revenue)"
      ],
      "id": "5f42e3f0"
    },
    {
      "cell_type": "code",
      "execution_count": null,
      "metadata": {
        "id": "89dc6fa1",
        "colab": {
          "base_uri": "https://localhost:8080/"
        },
        "outputId": "20f70c71-ae4d-4e96-abc9-3252c9aab729"
      },
      "outputs": [
        {
          "output_type": "stream",
          "name": "stdout",
          "text": [
            "Name type type: <class 'str'>\n",
            "Number of calls type: <class 'int'>\n",
            "Average deal size type: <class 'int'>\n",
            "Revenue type: <class 'str'>\n"
          ]
        }
      ],
      "source": [
        "#Print out the information again\n",
        "print(\"Name type type:\",type(name))\n",
        "print(\"Number of calls type:\",type(call_number))\n",
        "print(\"Average deal size type:\",type(average_deal_size))\n",
        "print(\"Revenue type:\", type(revenue))"
      ],
      "id": "89dc6fa1"
    },
    {
      "cell_type": "markdown",
      "metadata": {
        "id": "0b194713"
      },
      "source": [
        "Now, you need to apply all the methods and functions to the list that contains the different strings of all employees.\n",
        "\n",
        "📌 Create an empty lists for storing names, number of calls, average deal sizes, and revenues.\n",
        "\n",
        "📌 Use a for loop to iterate through the list with the whole data.\n",
        "\n",
        "📌 Print out the necessary information."
      ],
      "id": "0b194713"
    },
    {
      "cell_type": "code",
      "execution_count": null,
      "metadata": {
        "id": "5a4aab7e"
      },
      "outputs": [],
      "source": [
        "#Create empty lists for the names, number of calls, average deal sizes, revenues\n",
        "names=[]\n",
        "call_numbers=[]\n",
        "average_deal_sizes=[]\n",
        "revenues=[]"
      ],
      "id": "5a4aab7e"
    },
    {
      "cell_type": "code",
      "execution_count": null,
      "metadata": {
        "id": "2366069b",
        "colab": {
          "base_uri": "https://localhost:8080/"
        },
        "outputId": "0044e969-de89-473b-d86a-e01c3ded5394"
      },
      "outputs": [
        {
          "output_type": "stream",
          "name": "stdout",
          "text": [
            "Names: ['Ben', 'Omer', 'Karen', 'Celine', 'Sue', 'Bora', 'Rose', 'Ellen', 'Bob', 'Taylor,', 'Jude']\n",
            "Number of calls: [300, 10, 500, 70, 100, 100, 600, 800, 200, 450, 80]\n",
            "Average deal sizes: [8, 6, 24, 32, 5, 25, 25, 40, 15, 10, 12]\n",
            "Revenues: []\n"
          ]
        }
      ],
      "source": [
        "#Loop over the whole data\n",
        "for employee in lines:\n",
        "    #Clean the string\n",
        "   employee=employee.strip(\" \")\n",
        "   employee=employee.lower()\n",
        "   employee=employee.capitalize()\n",
        "    #Split the clean string\n",
        "   split_employee=employee.split(\" \")\n",
        "\n",
        "    \n",
        "    #Extract the name\n",
        "   name=split_employee[0]\n",
        "   call_number=split_employee[2]\n",
        "#Extract the average deal size\n",
        "   for i in split_employee:\n",
        "     if '$' in i:\n",
        "       average_deal_size=i\n",
        "   average_deal_size=average_deal_size.split('$')[0]\n",
        "#Extract the revenue\n",
        "   dollar_index=split_employee.index(\"dollars\")\n",
        "   revenue_index=dollar_index-1\n",
        "   revenue=split_employee[revenue_index]\n",
        "#Convert to the correct data types\n",
        "   average_deal_size=int(average_deal_size)\n",
        "   call_number=int(call_number)\n",
        "   revenu=int(revenue)\n",
        "   #Append the information to the lists\n",
        "   names.append(name)\n",
        "   call_numbers.append(call_number)\n",
        "   average_deal_sizes.append(average_deal_size)\n",
        "#Print out the information\n",
        "print(\"Names:\",names)\n",
        "print(\"Number of calls:\",call_numbers)\n",
        "print(\"Average deal sizes:\",average_deal_sizes)\n",
        "print(\"Revenues:\", revenues)"
      ],
      "id": "2366069b"
    },
    {
      "cell_type": "markdown",
      "metadata": {
        "id": "4d848787"
      },
      "source": [
        "Finally, you can make the process even easier and reusable by defining functions.\n",
        "\n",
        "📌 Define the function \"clean_extract\".\n",
        "\n",
        "📌 Use the retured values by assigning them to variables."
      ],
      "id": "4d848787"
    },
    {
      "cell_type": "code",
      "execution_count": null,
      "metadata": {
        "colab": {
          "base_uri": "https://localhost:8080/",
          "height": 17
        },
        "id": "_ipfpGrirCs7",
        "outputId": "5c4f5ebd-b114-4b61-e332-49cc94d13f25"
      },
      "outputs": [
        {
          "output_type": "display_data",
          "data": {
            "text/plain": [
              "<IPython.core.display.Javascript object>"
            ],
            "application/javascript": [
              "\n",
              "  for (rule of document.styleSheets[0].cssRules){\n",
              "    if (rule.selectorText=='body') {\n",
              "      rule.style.fontSize = '25px'\n",
              "      break\n",
              "    }\n",
              "  }\n",
              "  "
            ]
          },
          "metadata": {}
        },
        {
          "output_type": "display_data",
          "data": {
            "text/plain": [
              "<IPython.core.display.Javascript object>"
            ],
            "application/javascript": [
              "\n",
              "  for (rule of document.styleSheets[0].cssRules){\n",
              "    if (rule.selectorText=='body') {\n",
              "      rule.style.fontSize = '25px'\n",
              "      break\n",
              "    }\n",
              "  }\n",
              "  "
            ]
          },
          "metadata": {}
        }
      ],
      "source": [
        "#Create empty lists again\n",
        "names=[]\n",
        "call_numbers=[]\n",
        "average_deal_sizes=[]\n",
        "revenues=[]"
      ],
      "id": "_ipfpGrirCs7"
    },
    {
      "cell_type": "code",
      "execution_count": null,
      "metadata": {
        "id": "tnFT5Fk2qu_x"
      },
      "outputs": [],
      "source": [
        "#Define a function to clean and extract the data\n",
        "def clean_extract(lines):\n",
        "  for employee in lines:\n",
        "    employee=employee.strip(\" \")\n",
        "    employee=employee.lower()\n",
        "    employee=employee.capitalize()\n",
        "\n",
        "    split_employee=employee.split(\" \")\n",
        "    name=split_employee[0]\n",
        "    call_number=split_employee[2]\n",
        "    for i in split_employee:\n",
        "     if '$' in i:\n",
        "       average_deal_size=i\n",
        "       average_deal_size=average_deal_size.split('$')[0]\n",
        "\n",
        "    dollars_index=split_employee.index(\"dollars\")\n",
        "    revenue_index=dollars_index-1\n",
        "    revenue=split_employee[revenue_index]\n",
        "\n",
        "    average_deal_size=int(average_deal_size)\n",
        "    call_number=int(call_number)\n",
        "    revenue=int(revenue)\n",
        "\n",
        "    names.append(name)\n",
        "    call_numbers.append(call_number)\n",
        "    average_deal_sizes.append(average_deal_size)\n",
        "  return call_numbers,names,average_deal_sizes,revenues\n",
        "\n"
      ],
      "id": "tnFT5Fk2qu_x"
    },
    {
      "cell_type": "code",
      "execution_count": null,
      "metadata": {
        "id": "13b0fe6b"
      },
      "outputs": [],
      "source": [
        "#Assign returned values to variables\n",
        "names,call_numbers,average_deal_sizes,revenues=clean_extract(lines)\n"
      ],
      "id": "13b0fe6b"
    },
    {
      "cell_type": "code",
      "execution_count": null,
      "metadata": {
        "id": "44e38957",
        "colab": {
          "base_uri": "https://localhost:8080/"
        },
        "outputId": "4e0b7d2e-80d9-4af6-91ed-680d375eac31"
      },
      "outputs": [
        {
          "output_type": "stream",
          "name": "stdout",
          "text": [
            "Names: [300, 10, 500, 70, 100, 100, 600, 800, 200, 450, 80, 300, 10, 500, 70, 100, 100, 600, 800, 200, 450, 80]\n",
            "Number of calls: ['Ben', 'Omer', 'Karen', 'Celine', 'Sue', 'Bora', 'Rose', 'Ellen', 'Bob', 'Taylor,', 'Jude', 'Ben', 'Omer', 'Karen', 'Celine', 'Sue', 'Bora', 'Rose', 'Ellen', 'Bob', 'Taylor,', 'Jude']\n",
            "Average deal sizes: [8, 6, 24, 32, 5, 25, 25, 40, 15, 10, 12, 8, 6, 24, 32, 5, 25, 25, 40, 15, 10, 12]\n",
            "Revenues: []\n"
          ]
        }
      ],
      "source": [
        "#Print out the information\n",
        "print(\"Names:\",names)\n",
        "print(\"Number of calls:\",call_numbers)\n",
        "print(\"Average deal sizes:\",average_deal_sizes)\n",
        "print(\"Revenues:\", revenues)"
      ],
      "id": "44e38957"
    },
    {
      "cell_type": "markdown",
      "metadata": {
        "id": "26efe652"
      },
      "source": [
        "### Performance Analysis Report\n",
        "\n",
        "Now that you cleaned the string and extracted all the information using the function, you can create performance analysis report for the last month.\n",
        "\n",
        "📌 Assign IDs to each employee.\n",
        "\n",
        "📌 Create dictionaries.\n",
        "\n",
        "📌 Sort the dictionaries.\n",
        "\n",
        "\n"
      ],
      "id": "26efe652"
    },
    {
      "cell_type": "markdown",
      "metadata": {
        "id": "ZT7mAK3M5k3W"
      },
      "source": [
        "First, check how many employees there are and assign the IDs.\n",
        "\n",
        "📌 Use the len() and range() function.\n"
      ],
      "id": "ZT7mAK3M5k3W"
    },
    {
      "cell_type": "code",
      "execution_count": null,
      "metadata": {
        "id": "f20ff52f",
        "colab": {
          "base_uri": "https://localhost:8080/"
        },
        "outputId": "162e8167-6ecb-4841-96e0-00df57f7dac2"
      },
      "outputs": [
        {
          "output_type": "stream",
          "name": "stdout",
          "text": [
            "22\n"
          ]
        }
      ],
      "source": [
        "#Check the number of employees\n",
        "print(len(names))"
      ],
      "id": "f20ff52f"
    },
    {
      "cell_type": "code",
      "execution_count": null,
      "metadata": {
        "id": "5c62caf8",
        "colab": {
          "base_uri": "https://localhost:8080/"
        },
        "outputId": "676ee970-828c-4c6a-ed93-29e17608f809"
      },
      "outputs": [
        {
          "output_type": "stream",
          "name": "stdout",
          "text": [
            "[0, 1, 2, 3, 4, 5, 6, 7, 8, 9, 10]\n"
          ]
        }
      ],
      "source": [
        "#Generate IDs\n",
        "IDs=list(range(0,11))\n",
        "print(IDs)"
      ],
      "id": "5c62caf8"
    },
    {
      "cell_type": "code",
      "execution_count": null,
      "metadata": {
        "id": "28cd8ce6",
        "colab": {
          "base_uri": "https://localhost:8080/"
        },
        "outputId": "1f9b81f7-fe41-49e5-a37b-fe668b366df1"
      },
      "outputs": [
        {
          "output_type": "execute_result",
          "data": {
            "text/plain": [
              "11"
            ]
          },
          "metadata": {},
          "execution_count": 49
        }
      ],
      "source": [
        "#Check the number of IDs\n",
        "len(IDs)"
      ],
      "id": "28cd8ce6"
    },
    {
      "cell_type": "markdown",
      "metadata": {
        "id": "NKP6Yoto6eqP"
      },
      "source": [
        "With the IDs ready, you need to assign the IDs to the employees.\n",
        "\n",
        "📌 Use the zip() function to pair the employee with the ID.\n",
        "\n",
        "📌 Convert the zip object into a dictionary."
      ],
      "id": "NKP6Yoto6eqP"
    },
    {
      "cell_type": "code",
      "execution_count": null,
      "metadata": {
        "id": "7e56a43f",
        "colab": {
          "base_uri": "https://localhost:8080/"
        },
        "outputId": "65962a4e-da6e-4c1b-bca5-1f75e3b2cf55"
      },
      "outputs": [
        {
          "output_type": "execute_result",
          "data": {
            "text/plain": [
              "{0: 300,\n",
              " 1: 10,\n",
              " 2: 500,\n",
              " 3: 70,\n",
              " 4: 100,\n",
              " 5: 100,\n",
              " 6: 600,\n",
              " 7: 800,\n",
              " 8: 200,\n",
              " 9: 450,\n",
              " 10: 80}"
            ]
          },
          "metadata": {},
          "execution_count": 53
        }
      ],
      "source": [
        "#Pair the names with the IDs in a dictionary\n",
        "dictionarly=dict(zip(IDs,names))\n",
        "dictionarly"
      ],
      "id": "7e56a43f"
    },
    {
      "cell_type": "markdown",
      "metadata": {
        "id": "429d7b7f"
      },
      "source": [
        "Similarly, create a dictionary for the  employees and their revenues."
      ],
      "id": "429d7b7f"
    },
    {
      "cell_type": "code",
      "execution_count": null,
      "metadata": {
        "id": "aa2c6560",
        "colab": {
          "base_uri": "https://localhost:8080/"
        },
        "outputId": "c802dc29-e4bd-4c3f-b0e5-b298073a38bc"
      },
      "outputs": [
        {
          "output_type": "execute_result",
          "data": {
            "text/plain": [
              "{}"
            ]
          },
          "metadata": {},
          "execution_count": 57
        }
      ],
      "source": [
        "#Pair the names with the revenues\n",
        "dictionary2=dict(zip(revenues,names))\n",
        "dictionary2\n"
      ],
      "id": "aa2c6560"
    },
    {
      "cell_type": "markdown",
      "metadata": {
        "id": "Ou3ne5Vn76N_"
      },
      "source": [
        "Finally, you need to find the employees with the best and lowest performance.\n",
        "\n",
        "📌 Sort the dictionary using the sorted() function in ascending and descending order.\n"
      ],
      "id": "Ou3ne5Vn76N_"
    },
    {
      "cell_type": "code",
      "execution_count": null,
      "metadata": {
        "id": "d348a929"
      },
      "outputs": [],
      "source": [
        "#Find the lowest performing employees (ascending order)\n"
      ],
      "id": "d348a929"
    },
    {
      "cell_type": "code",
      "execution_count": null,
      "metadata": {
        "id": "3210f1ad"
      },
      "outputs": [],
      "source": [
        "#Find the best performing employees (descending order)\n"
      ],
      "id": "3210f1ad"
    },
    {
      "cell_type": "code",
      "source": [
        "Line=\"celine with 70 calls,made 2275 dollars and 32$ average deal size in the previous month.\"\n",
        "words=Line.split(' ')\n",
        "\n",
        "print(words[4])"
      ],
      "metadata": {
        "colab": {
          "base_uri": "https://localhost:8080/"
        },
        "id": "RrkKiDGl455Q",
        "outputId": "c1dc48b1-3fbc-4b9f-e6e7-128b731077b4"
      },
      "id": "RrkKiDGl455Q",
      "execution_count": null,
      "outputs": [
        {
          "output_type": "stream",
          "name": "stdout",
          "text": [
            "2275\n"
          ]
        }
      ]
    },
    {
      "cell_type": "code",
      "source": [
        "names=['Ben', 'Omer', 'Karen', 'Celine', 'Sue', 'Bora', 'Rose', 'Ellen', 'Bob', 'Taylor,', 'Jude', 'Ben', 'Omer', 'Karen', 'Celine', 'Sue', 'Bora', 'Rose', \n",
        "       'Ellen', 'Bob', 'Taylor,', 'Jude']\n",
        "incomes=[4400,5600,12000,3275,4500,5770,4000,6000,7800,8200,6500]\n",
        "Data=dict(zip(incomes,names))\n",
        "sortedData=sorted(Data,reverse=False)[0:3]\n",
        "print(Data)"
      ],
      "metadata": {
        "colab": {
          "base_uri": "https://localhost:8080/"
        },
        "id": "Z-5eFpIf6IV5",
        "outputId": "a89094b3-70df-415d-b00a-0a570d4649fc"
      },
      "id": "Z-5eFpIf6IV5",
      "execution_count": null,
      "outputs": [
        {
          "output_type": "stream",
          "name": "stdout",
          "text": [
            "{4400: 'Ben', 5600: 'Omer', 12000: 'Karen', 3275: 'Celine', 4500: 'Sue', 5770: 'Bora', 4000: 'Rose', 6000: 'Ellen', 7800: 'Bob', 8200: 'Taylor,', 6500: 'Jude'}\n"
          ]
        }
      ]
    },
    {
      "cell_type": "code",
      "source": [
        "Data"
      ],
      "metadata": {
        "id": "zD43zEEKCGm2"
      },
      "id": "zD43zEEKCGm2",
      "execution_count": null,
      "outputs": []
    },
    {
      "cell_type": "code",
      "source": [
        "print(\"abcdefcdghcd\".split(\"c\"))"
      ],
      "metadata": {
        "colab": {
          "base_uri": "https://localhost:8080/"
        },
        "id": "dxRbH2sg6_bG",
        "outputId": "4544cb02-0e54-4800-afaa-5b8c6dec965b"
      },
      "id": "dxRbH2sg6_bG",
      "execution_count": null,
      "outputs": [
        {
          "output_type": "stream",
          "name": "stdout",
          "text": [
            "['ab', 'def', 'dgh', 'd']\n"
          ]
        }
      ]
    },
    {
      "cell_type": "code",
      "source": [
        "fruits=\"Apple,Banana,Cherry,Avacado\".split(\" \")\n",
        "fruits.strip(\" \")"
      ],
      "metadata": {
        "colab": {
          "base_uri": "https://localhost:8080/",
          "height": 184
        },
        "id": "Zab9Y_Xr-Qgj",
        "outputId": "757a2cff-9186-4380-d32a-c0decf85c036"
      },
      "id": "Zab9Y_Xr-Qgj",
      "execution_count": null,
      "outputs": [
        {
          "output_type": "error",
          "ename": "AttributeError",
          "evalue": "ignored",
          "traceback": [
            "\u001b[0;31m---------------------------------------------------------------------------\u001b[0m",
            "\u001b[0;31mAttributeError\u001b[0m                            Traceback (most recent call last)",
            "\u001b[0;32m<ipython-input-5-b44d147cccc9>\u001b[0m in \u001b[0;36m<module>\u001b[0;34m\u001b[0m\n\u001b[1;32m      1\u001b[0m \u001b[0mfruits\u001b[0m\u001b[0;34m=\u001b[0m\u001b[0;34m\"Apple,Banana,Cherry,Avacado\"\u001b[0m\u001b[0;34m.\u001b[0m\u001b[0msplit\u001b[0m\u001b[0;34m(\u001b[0m\u001b[0;34m\" \"\u001b[0m\u001b[0;34m)\u001b[0m\u001b[0;34m\u001b[0m\u001b[0;34m\u001b[0m\u001b[0m\n\u001b[0;32m----> 2\u001b[0;31m \u001b[0mfruits\u001b[0m\u001b[0;34m.\u001b[0m\u001b[0mstrip\u001b[0m\u001b[0;34m(\u001b[0m\u001b[0;34m\" \"\u001b[0m\u001b[0;34m)\u001b[0m\u001b[0;34m\u001b[0m\u001b[0;34m\u001b[0m\u001b[0m\n\u001b[0m",
            "\u001b[0;31mAttributeError\u001b[0m: 'list' object has no attribute 'strip'"
          ]
        }
      ]
    },
    {
      "cell_type": "code",
      "source": [
        "list1=[\"ben\",\"omer\",\"karen\"]\n",
        "list2=[300,10,500,950,253]\n",
        "\n",
        "dictionary1=dict(zip(list1,list2))\n",
        "print(dictionary1)"
      ],
      "metadata": {
        "colab": {
          "base_uri": "https://localhost:8080/"
        },
        "id": "NG8cVVVb-nYO",
        "outputId": "2797bc16-dd74-42b2-d35f-f35ea9e544dd"
      },
      "id": "NG8cVVVb-nYO",
      "execution_count": null,
      "outputs": [
        {
          "output_type": "stream",
          "name": "stdout",
          "text": [
            "{'ben': 300, 'omer': 10, 'karen': 500}\n"
          ]
        }
      ]
    },
    {
      "cell_type": "code",
      "source": [],
      "metadata": {
        "id": "48BJn6i9BQua"
      },
      "id": "48BJn6i9BQua",
      "execution_count": null,
      "outputs": []
    }
  ],
  "metadata": {
    "colab": {
      "collapsed_sections": [],
      "provenance": []
    },
    "kernelspec": {
      "display_name": "Python 3",
      "language": "python",
      "name": "python3"
    },
    "language_info": {
      "codemirror_mode": {
        "name": "ipython",
        "version": 3
      },
      "file_extension": ".py",
      "mimetype": "text/x-python",
      "name": "python",
      "nbconvert_exporter": "python",
      "pygments_lexer": "ipython3",
      "version": "3.8.8"
    }
  },
  "nbformat": 4,
  "nbformat_minor": 5
}